{
 "cells": [
  {
   "cell_type": "code",
   "execution_count": null,
   "metadata": {},
   "outputs": [],
   "source": [
    "import transformers\n",
    "import torch\n",
    "# print(torch.__version__)\n",
    "# print(torch.version)\n",
    "# torch.set_default_device(‘cpu’)\n",
    "# torch._utils\n",
    "model_id = \"meta-llama/Meta-Llama-3-8B\"\n",
    "pipeline = transformers.pipeline( \"text-generation\", model=model_id, model_kwargs={\"torch_dtype\": torch.bfloat16}, device_map=\"auto\")\n",
    "\n"
   ]
  },
  {
   "cell_type": "code",
   "execution_count": null,
   "metadata": {},
   "outputs": [],
   "source": [
    "# pipeline(\"Once upon a time\", max_length=10, truncation=True, num_return_sequences=3)"
   ]
  },
  {
   "cell_type": "code",
   "execution_count": null,
   "metadata": {},
   "outputs": [],
   "source": [
    "pipeline(\"Hey how are you doing today?\")"
   ]
  },
  {
   "cell_type": "code",
   "execution_count": null,
   "metadata": {},
   "outputs": [],
   "source": [
    "from transformers import AutoModelForCausalLM, AutoTokenizer, TextStreamer\n",
    "tok = AutoTokenizer.from_pretrained(\"meta-llama/Meta-Llama-3-8B\")\n",
    "model = AutoModelForCausalLM.from_pretrained(\"meta-llama/Meta-Llama-3-8B\")   \n"
   ]
  },
  {
   "cell_type": "code",
   "execution_count": 31,
   "metadata": {},
   "outputs": [],
   "source": [
    "input_text = \"Write a brief story about a boy named Finn who explores the back-yard with his dog Olive.\\n\""
   ]
  },
  {
   "cell_type": "code",
   "execution_count": 32,
   "metadata": {},
   "outputs": [
    {
     "name": "stderr",
     "output_type": "stream",
     "text": [
      "Setting `pad_token_id` to `eos_token_id`:128001 for open-end generation.\n"
     ]
    },
    {
     "name": "stdout",
     "output_type": "stream",
     "text": [
      "<|begin_of_text|>Write a brief story about a boy named Finn who explores the back-yard with his dog Olive.\n",
      "I am a boy named Finn. I live in a small town called Derry. I have a dog named Olive. She is a good dog. She loves to play fetch. We live in a house with my dad, mom, and two sisters. My sisters are named Hannah and Olivia. We have a backyard that is big enough for us to play in. I like to play in the backyard with Olive. We play fetch, and I love it when she brings the ball back to me. We also play tag and hide-and-seek. I love playing in the backyard with Olive. It is one of my favorite things to do.\n",
      "I am a boy named Finn. I live in a small town called Derry. I have a dog named Olive. She is a good dog. She loves to play fetch. We live in a house with my dad, mom, and two sisters. My sisters are named Hannah and Olivia. We have a backyard that is big enough for us to play in. I like to play in the backyard with Olive. We play fetch, and I love it when she brings the ball back to me. We also play tag and hide-and-seek. I love playing in the backyard with Olive. It is one of my favorite things to do.<|end_of_text|>\n"
     ]
    }
   ],
   "source": [
    "inputs = tok([input_text], return_tensors=\"pt\")\n",
    "streamer = TextStreamer(tok)\n",
    "_ = model.generate(**inputs, streamer=streamer, max_new_tokens=1000)"
   ]
  }
 ],
 "metadata": {
  "kernelspec": {
   "display_name": "venv",
   "language": "python",
   "name": "python3"
  },
  "language_info": {
   "codemirror_mode": {
    "name": "ipython",
    "version": 3
   },
   "file_extension": ".py",
   "mimetype": "text/x-python",
   "name": "python",
   "nbconvert_exporter": "python",
   "pygments_lexer": "ipython3",
   "version": "3.11.2"
  }
 },
 "nbformat": 4,
 "nbformat_minor": 2
}
