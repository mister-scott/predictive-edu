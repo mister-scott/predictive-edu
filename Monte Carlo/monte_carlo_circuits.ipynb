{
 "cells": [
  {
   "cell_type": "markdown",
   "metadata": {},
   "source": [
    "## Monte Carlo\n",
    "\n",
    "* Circuits, Generalized Steps - https://spiceman.net/ltspice-monte-carlo-analysis/#index_id0\n",
    "    * Prepare a schematic\n",
    "    * Signal source setting\n",
    "    * Monte Carlo Analysis(mc)\n",
    "    * Transient Analysis(.tran) Setting\n",
    "    * Parametric Analysis(.step) Setting\n",
    "    * Simulation\n",
    "    * Analysis result\n",
    "\n",
    "    https://www.analog.com/en/resources/technical-articles/ltspice-worst-case-circuit-analysis-with-minimal-simulations-runs.html"
   ]
  },
  {
   "cell_type": "markdown",
   "metadata": {},
   "source": [
    "LTSpice provides several ways to vary the value of a parameter. Some of these are:\n",
    "\n",
    "* .step param; A parameter sweep of a user-defined variable\n",
    "* gauss(x); A random number from Gaussian distribution with a sigma of x\n",
    "* flat(x); A random number between -x and x with uniform distribution\n",
    "* mc(x,y); A random number between x*(1+y) and x*(1-y) with uniform distribution."
   ]
  },
  {
   "cell_type": "markdown",
   "metadata": {},
   "source": [
    "### Preparing a schematic\n",
    "Design the representative schematic for your circuit, including the source signal\n",
    "\n",
    "\n",
    "### Adjust the value and tolerance of selected components using the following format:\n",
    "* Enter {mc (200, 0.1)} for the Resistance[Ω]. The resistance value of R2 is set to perform Monte Carlo analysis with an error of 10%.\n",
    "* (In order to make it easy to understand the variation of the error in the analysis results, it was set with an error of 10%.)\n",
    "\n",
    "### Configure the transient analysis setting\n",
    "* Click “Simulate”-“Edit Simulation Cmd” in the menu bar to open the “Edit Simulation Command” screen.\n",
    "* Select “Transient” and enter “10 m” for Stop time. You should now see “.tran 10m” at the bottom of the screen.\n",
    "* Now, it is set to perform transient analysis for 10msec.\n",
    "* LTspice can use auxiliary units other than “m” as shown in the following table.\n",
    "* Of course, it does not matter if you enter “0.01” instead of “10m” without using auxiliary units.\n",
    "\n"
   ]
  },
  {
   "cell_type": "markdown",
   "metadata": {},
   "source": [
    "### Using Parametric Analysis (.step) to control runs of MC functions\n",
    "* Click “SPICE Directive” on the toolbar to display “Edit Text on the Schematic” screen. (Looks like '.op' button, top right)\n",
    "* Make sure the “SPICE Directive .step” is selected and enter “.step”.\n",
    "* After placement, right-click “.step” of the mouse to open the “.step Statement Editor” screen.\n",
    "* Input Name of parameter to sweep:R, Nature of sweep:Linear, Start value:1, Stop value:10, Increment:1. You should see \".step param R 1 10 1\" at the bottom of the screen.\n",
    "* This is the setting for parametric analysis that performs 10 simulations.\n",
    "* Of course, if you know the syntax format, you can also enter it on the \"Edit Text on the Schematic\" screen.\n",
    "* Confirm that “.step” of the dot command is displayed as “.step param R 1 10 1”.\n",
    "* Click “Run” on the toolbar to run the simulation. The simulation time varies depending on the size of the circuit.\n"
   ]
  },
  {
   "cell_type": "markdown",
   "metadata": {},
   "source": [
    "* RC_mc demonstrates the use of varying multiple components simultaneously, and presents the frequency response of the system.\n"
   ]
  }
 ],
 "metadata": {
  "language_info": {
   "name": "python"
  }
 },
 "nbformat": 4,
 "nbformat_minor": 2
}
